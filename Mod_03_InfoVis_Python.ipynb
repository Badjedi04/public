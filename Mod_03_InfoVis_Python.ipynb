{
  "nbformat": 4,
  "nbformat_minor": 0,
  "metadata": {
    "colab": {
      "name": "Mod_03_InfoVis_Python.ipynb",
      "provenance": [],
      "collapsed_sections": [],
      "toc_visible": true,
      "authorship_tag": "ABX9TyOSeWalWVvWAPXOLJs5ltaU",
      "include_colab_link": true
    },
    "kernelspec": {
      "name": "python3",
      "display_name": "Python 3"
    }
  },
  "cells": [
    {
      "cell_type": "markdown",
      "metadata": {
        "id": "view-in-github",
        "colab_type": "text"
      },
      "source": [
        "<a href=\"https://colab.research.google.com/github/cs432-websci-master/public/blob/main/Mod_03_InfoVis_Python.ipynb\" target=\"_parent\"><img src=\"https://colab.research.google.com/assets/colab-badge.svg\" alt=\"Open In Colab\"/></a>"
      ]
    },
    {
      "cell_type": "markdown",
      "metadata": {
        "id": "hdzLxxc9Q4ES"
      },
      "source": [
        "# CS 432/532 InfoVis with Python Tutorial"
      ]
    },
    {
      "cell_type": "markdown",
      "metadata": {
        "id": "YfatT9E1l-b7"
      },
      "source": [
        "We're going to use [Seaborn](https://seaborn.pydata.org/), which is a high-level interface to the popular [Matplotlib](https://matplotlib.org/).  We'll also be using [Pandas](https://pandas.pydata.org/) to read in data from a CSV file to a a dataframe (aka table) and manipulate the data.\n",
        "\n",
        "The goal is to produce plots similar to those from the InfoVis in R tutorial. So first, upload the `midwest.csv` and `economics.csv` datasets that were created in the R tutorial to your notebook.\n"
      ]
    },
    {
      "cell_type": "code",
      "metadata": {
        "id": "IZeTiREWlOLy"
      },
      "source": [
        "import matplotlib.pyplot as plt  # will need some Matplotlib functions\n",
        "import seaborn as sns\n",
        "import pandas as pd              # will use Pandas for data manipulation\n",
        "sns.set_style(\"whitegrid\");   # use white grid as default"
      ],
      "execution_count": null,
      "outputs": []
    },
    {
      "cell_type": "code",
      "metadata": {
        "id": "C3c2DXpDmM8w"
      },
      "source": [
        "fCount_csv = pd.read_csv('acnwala-friendscount.csv')"
      ],
      "execution_count": null,
      "outputs": []
    },
    {
      "cell_type": "code",
      "metadata": {
        "id": "EfQvqYtCmeui",
        "colab": {
          "base_uri": "https://localhost:8080/",
          "height": 244
        },
        "outputId": "c855b938-fabf-4865-d3d4-953ef296c0f5"
      },
      "source": [
        "fCount_csv.head()"
      ],
      "execution_count": null,
      "outputs": [
        {
          "output_type": "execute_result",
          "data": {
            "text/html": [
              "<div>\n",
              "<style scoped>\n",
              "    .dataframe tbody tr th:only-of-type {\n",
              "        vertical-align: middle;\n",
              "    }\n",
              "\n",
              "    .dataframe tbody tr th {\n",
              "        vertical-align: top;\n",
              "    }\n",
              "\n",
              "    .dataframe thead th {\n",
              "        text-align: right;\n",
              "    }\n",
              "</style>\n",
              "<table border=\"1\" class=\"dataframe\">\n",
              "  <thead>\n",
              "    <tr style=\"text-align: right;\">\n",
              "      <th></th>\n",
              "      <th>USER</th>\n",
              "      <th>\"FRIENDCOUNT\"</th>\n",
              "    </tr>\n",
              "  </thead>\n",
              "  <tbody>\n",
              "    <tr>\n",
              "      <th>0</th>\n",
              "      <td>Uloma Faith Nwala</td>\n",
              "      <td>482</td>\n",
              "    </tr>\n",
              "    <tr>\n",
              "      <th>1</th>\n",
              "      <td>Chima Emmanuel Nwala</td>\n",
              "      <td>357</td>\n",
              "    </tr>\n",
              "    <tr>\n",
              "      <th>2</th>\n",
              "      <td>Tibidabo A. Peters</td>\n",
              "      <td>2143</td>\n",
              "    </tr>\n",
              "    <tr>\n",
              "      <th>3</th>\n",
              "      <td>Hany SalahEldeen</td>\n",
              "      <td>1250</td>\n",
              "    </tr>\n",
              "    <tr>\n",
              "      <th>4</th>\n",
              "      <td>Deborah Edds</td>\n",
              "      <td>907</td>\n",
              "    </tr>\n",
              "  </tbody>\n",
              "</table>\n",
              "</div>"
            ],
            "text/plain": [
              "                   USER   \"FRIENDCOUNT\"\n",
              "0     Uloma Faith Nwala             482\n",
              "1  Chima Emmanuel Nwala             357\n",
              "2    Tibidabo A. Peters            2143\n",
              "3      Hany SalahEldeen            1250\n",
              "4          Deborah Edds             907"
            ]
          },
          "metadata": {
            "tags": []
          },
          "execution_count": 9
        }
      ]
    },
    {
      "cell_type": "code",
      "metadata": {
        "id": "vcumQqFemR6i",
        "colab": {
          "base_uri": "https://localhost:8080/",
          "height": 273
        },
        "outputId": "f570ecdd-25d4-489c-b649-fdf1751b06ff"
      },
      "source": [
        "user = fCount_csv['USER']\n",
        "print (user);"
      ],
      "execution_count": null,
      "outputs": [
        {
          "output_type": "stream",
          "text": [
            "0        Uloma Faith Nwala\n",
            "1     Chima Emmanuel Nwala\n",
            "2       Tibidabo A. Peters\n",
            "3         Hany SalahEldeen\n",
            "4             Deborah Edds\n",
            "              ...         \n",
            "93        Chukwuemeka Udeh\n",
            "94             Wobo Vivian\n",
            "95     Fortune Tall Essien\n",
            "96          Mirian Webilor\n",
            "97           Nwala Johnson\n",
            "Name: USER, Length: 98, dtype: object\n"
          ],
          "name": "stdout"
        }
      ]
    },
    {
      "cell_type": "code",
      "metadata": {
        "id": "ojttqVO9mXlP",
        "colab": {
          "base_uri": "https://localhost:8080/",
          "height": 273
        },
        "outputId": "e391d9eb-9c25-41b3-fede-8ac3b8e0b920"
      },
      "source": [
        "fCount = fCount_csv[' \"FRIENDCOUNT\"']\n",
        "print(fCount);"
      ],
      "execution_count": null,
      "outputs": [
        {
          "output_type": "stream",
          "text": [
            "0      482\n",
            "1      357\n",
            "2     2143\n",
            "3     1250\n",
            "4      907\n",
            "      ... \n",
            "93      40\n",
            "94     393\n",
            "95     210\n",
            "96     341\n",
            "97     916\n",
            "Name:  \"FRIENDCOUNT\", Length: 98, dtype: int64\n"
          ],
          "name": "stdout"
        }
      ]
    },
    {
      "cell_type": "code",
      "metadata": {
        "id": "wpTt3spyo6u6",
        "colab": {
          "base_uri": "https://localhost:8080/",
          "height": 472
        },
        "outputId": "d17e50e4-95d3-43aa-d2ad-c99d5798c5ab"
      },
      "source": [
        "midwest = pd.read_csv('midwest.csv')\n",
        "midwest.head()"
      ],
      "execution_count": null,
      "outputs": [
        {
          "output_type": "error",
          "ename": "FileNotFoundError",
          "evalue": "ignored",
          "traceback": [
            "\u001b[0;31m---------------------------------------------------------------------------\u001b[0m",
            "\u001b[0;31mFileNotFoundError\u001b[0m                         Traceback (most recent call last)",
            "\u001b[0;32m<ipython-input-2-cc5010ed8688>\u001b[0m in \u001b[0;36m<module>\u001b[0;34m()\u001b[0m\n\u001b[0;32m----> 1\u001b[0;31m \u001b[0mmidwest\u001b[0m \u001b[0;34m=\u001b[0m \u001b[0mpd\u001b[0m\u001b[0;34m.\u001b[0m\u001b[0mread_csv\u001b[0m\u001b[0;34m(\u001b[0m\u001b[0;34m'midwest.csv'\u001b[0m\u001b[0;34m)\u001b[0m\u001b[0;34m\u001b[0m\u001b[0;34m\u001b[0m\u001b[0m\n\u001b[0m\u001b[1;32m      2\u001b[0m \u001b[0mmidwest\u001b[0m\u001b[0;34m.\u001b[0m\u001b[0mhead\u001b[0m\u001b[0;34m(\u001b[0m\u001b[0;34m)\u001b[0m\u001b[0;34m\u001b[0m\u001b[0;34m\u001b[0m\u001b[0m\n",
            "\u001b[0;32m/usr/local/lib/python3.6/dist-packages/pandas/io/parsers.py\u001b[0m in \u001b[0;36mread_csv\u001b[0;34m(filepath_or_buffer, sep, delimiter, header, names, index_col, usecols, squeeze, prefix, mangle_dupe_cols, dtype, engine, converters, true_values, false_values, skipinitialspace, skiprows, skipfooter, nrows, na_values, keep_default_na, na_filter, verbose, skip_blank_lines, parse_dates, infer_datetime_format, keep_date_col, date_parser, dayfirst, cache_dates, iterator, chunksize, compression, thousands, decimal, lineterminator, quotechar, quoting, doublequote, escapechar, comment, encoding, dialect, error_bad_lines, warn_bad_lines, delim_whitespace, low_memory, memory_map, float_precision)\u001b[0m\n\u001b[1;32m    684\u001b[0m     )\n\u001b[1;32m    685\u001b[0m \u001b[0;34m\u001b[0m\u001b[0m\n\u001b[0;32m--> 686\u001b[0;31m     \u001b[0;32mreturn\u001b[0m \u001b[0m_read\u001b[0m\u001b[0;34m(\u001b[0m\u001b[0mfilepath_or_buffer\u001b[0m\u001b[0;34m,\u001b[0m \u001b[0mkwds\u001b[0m\u001b[0;34m)\u001b[0m\u001b[0;34m\u001b[0m\u001b[0;34m\u001b[0m\u001b[0m\n\u001b[0m\u001b[1;32m    687\u001b[0m \u001b[0;34m\u001b[0m\u001b[0m\n\u001b[1;32m    688\u001b[0m \u001b[0;34m\u001b[0m\u001b[0m\n",
            "\u001b[0;32m/usr/local/lib/python3.6/dist-packages/pandas/io/parsers.py\u001b[0m in \u001b[0;36m_read\u001b[0;34m(filepath_or_buffer, kwds)\u001b[0m\n\u001b[1;32m    450\u001b[0m \u001b[0;34m\u001b[0m\u001b[0m\n\u001b[1;32m    451\u001b[0m     \u001b[0;31m# Create the parser.\u001b[0m\u001b[0;34m\u001b[0m\u001b[0;34m\u001b[0m\u001b[0;34m\u001b[0m\u001b[0m\n\u001b[0;32m--> 452\u001b[0;31m     \u001b[0mparser\u001b[0m \u001b[0;34m=\u001b[0m \u001b[0mTextFileReader\u001b[0m\u001b[0;34m(\u001b[0m\u001b[0mfp_or_buf\u001b[0m\u001b[0;34m,\u001b[0m \u001b[0;34m**\u001b[0m\u001b[0mkwds\u001b[0m\u001b[0;34m)\u001b[0m\u001b[0;34m\u001b[0m\u001b[0;34m\u001b[0m\u001b[0m\n\u001b[0m\u001b[1;32m    453\u001b[0m \u001b[0;34m\u001b[0m\u001b[0m\n\u001b[1;32m    454\u001b[0m     \u001b[0;32mif\u001b[0m \u001b[0mchunksize\u001b[0m \u001b[0;32mor\u001b[0m \u001b[0miterator\u001b[0m\u001b[0;34m:\u001b[0m\u001b[0;34m\u001b[0m\u001b[0;34m\u001b[0m\u001b[0m\n",
            "\u001b[0;32m/usr/local/lib/python3.6/dist-packages/pandas/io/parsers.py\u001b[0m in \u001b[0;36m__init__\u001b[0;34m(self, f, engine, **kwds)\u001b[0m\n\u001b[1;32m    944\u001b[0m             \u001b[0mself\u001b[0m\u001b[0;34m.\u001b[0m\u001b[0moptions\u001b[0m\u001b[0;34m[\u001b[0m\u001b[0;34m\"has_index_names\"\u001b[0m\u001b[0;34m]\u001b[0m \u001b[0;34m=\u001b[0m \u001b[0mkwds\u001b[0m\u001b[0;34m[\u001b[0m\u001b[0;34m\"has_index_names\"\u001b[0m\u001b[0;34m]\u001b[0m\u001b[0;34m\u001b[0m\u001b[0;34m\u001b[0m\u001b[0m\n\u001b[1;32m    945\u001b[0m \u001b[0;34m\u001b[0m\u001b[0m\n\u001b[0;32m--> 946\u001b[0;31m         \u001b[0mself\u001b[0m\u001b[0;34m.\u001b[0m\u001b[0m_make_engine\u001b[0m\u001b[0;34m(\u001b[0m\u001b[0mself\u001b[0m\u001b[0;34m.\u001b[0m\u001b[0mengine\u001b[0m\u001b[0;34m)\u001b[0m\u001b[0;34m\u001b[0m\u001b[0;34m\u001b[0m\u001b[0m\n\u001b[0m\u001b[1;32m    947\u001b[0m \u001b[0;34m\u001b[0m\u001b[0m\n\u001b[1;32m    948\u001b[0m     \u001b[0;32mdef\u001b[0m \u001b[0mclose\u001b[0m\u001b[0;34m(\u001b[0m\u001b[0mself\u001b[0m\u001b[0;34m)\u001b[0m\u001b[0;34m:\u001b[0m\u001b[0;34m\u001b[0m\u001b[0;34m\u001b[0m\u001b[0m\n",
            "\u001b[0;32m/usr/local/lib/python3.6/dist-packages/pandas/io/parsers.py\u001b[0m in \u001b[0;36m_make_engine\u001b[0;34m(self, engine)\u001b[0m\n\u001b[1;32m   1176\u001b[0m     \u001b[0;32mdef\u001b[0m \u001b[0m_make_engine\u001b[0m\u001b[0;34m(\u001b[0m\u001b[0mself\u001b[0m\u001b[0;34m,\u001b[0m \u001b[0mengine\u001b[0m\u001b[0;34m=\u001b[0m\u001b[0;34m\"c\"\u001b[0m\u001b[0;34m)\u001b[0m\u001b[0;34m:\u001b[0m\u001b[0;34m\u001b[0m\u001b[0;34m\u001b[0m\u001b[0m\n\u001b[1;32m   1177\u001b[0m         \u001b[0;32mif\u001b[0m \u001b[0mengine\u001b[0m \u001b[0;34m==\u001b[0m \u001b[0;34m\"c\"\u001b[0m\u001b[0;34m:\u001b[0m\u001b[0;34m\u001b[0m\u001b[0;34m\u001b[0m\u001b[0m\n\u001b[0;32m-> 1178\u001b[0;31m             \u001b[0mself\u001b[0m\u001b[0;34m.\u001b[0m\u001b[0m_engine\u001b[0m \u001b[0;34m=\u001b[0m \u001b[0mCParserWrapper\u001b[0m\u001b[0;34m(\u001b[0m\u001b[0mself\u001b[0m\u001b[0;34m.\u001b[0m\u001b[0mf\u001b[0m\u001b[0;34m,\u001b[0m \u001b[0;34m**\u001b[0m\u001b[0mself\u001b[0m\u001b[0;34m.\u001b[0m\u001b[0moptions\u001b[0m\u001b[0;34m)\u001b[0m\u001b[0;34m\u001b[0m\u001b[0;34m\u001b[0m\u001b[0m\n\u001b[0m\u001b[1;32m   1179\u001b[0m         \u001b[0;32melse\u001b[0m\u001b[0;34m:\u001b[0m\u001b[0;34m\u001b[0m\u001b[0;34m\u001b[0m\u001b[0m\n\u001b[1;32m   1180\u001b[0m             \u001b[0;32mif\u001b[0m \u001b[0mengine\u001b[0m \u001b[0;34m==\u001b[0m \u001b[0;34m\"python\"\u001b[0m\u001b[0;34m:\u001b[0m\u001b[0;34m\u001b[0m\u001b[0;34m\u001b[0m\u001b[0m\n",
            "\u001b[0;32m/usr/local/lib/python3.6/dist-packages/pandas/io/parsers.py\u001b[0m in \u001b[0;36m__init__\u001b[0;34m(self, src, **kwds)\u001b[0m\n\u001b[1;32m   2006\u001b[0m         \u001b[0mkwds\u001b[0m\u001b[0;34m[\u001b[0m\u001b[0;34m\"usecols\"\u001b[0m\u001b[0;34m]\u001b[0m \u001b[0;34m=\u001b[0m \u001b[0mself\u001b[0m\u001b[0;34m.\u001b[0m\u001b[0musecols\u001b[0m\u001b[0;34m\u001b[0m\u001b[0;34m\u001b[0m\u001b[0m\n\u001b[1;32m   2007\u001b[0m \u001b[0;34m\u001b[0m\u001b[0m\n\u001b[0;32m-> 2008\u001b[0;31m         \u001b[0mself\u001b[0m\u001b[0;34m.\u001b[0m\u001b[0m_reader\u001b[0m \u001b[0;34m=\u001b[0m \u001b[0mparsers\u001b[0m\u001b[0;34m.\u001b[0m\u001b[0mTextReader\u001b[0m\u001b[0;34m(\u001b[0m\u001b[0msrc\u001b[0m\u001b[0;34m,\u001b[0m \u001b[0;34m**\u001b[0m\u001b[0mkwds\u001b[0m\u001b[0;34m)\u001b[0m\u001b[0;34m\u001b[0m\u001b[0;34m\u001b[0m\u001b[0m\n\u001b[0m\u001b[1;32m   2009\u001b[0m         \u001b[0mself\u001b[0m\u001b[0;34m.\u001b[0m\u001b[0munnamed_cols\u001b[0m \u001b[0;34m=\u001b[0m \u001b[0mself\u001b[0m\u001b[0;34m.\u001b[0m\u001b[0m_reader\u001b[0m\u001b[0;34m.\u001b[0m\u001b[0munnamed_cols\u001b[0m\u001b[0;34m\u001b[0m\u001b[0;34m\u001b[0m\u001b[0m\n\u001b[1;32m   2010\u001b[0m \u001b[0;34m\u001b[0m\u001b[0m\n",
            "\u001b[0;32mpandas/_libs/parsers.pyx\u001b[0m in \u001b[0;36mpandas._libs.parsers.TextReader.__cinit__\u001b[0;34m()\u001b[0m\n",
            "\u001b[0;32mpandas/_libs/parsers.pyx\u001b[0m in \u001b[0;36mpandas._libs.parsers.TextReader._setup_parser_source\u001b[0;34m()\u001b[0m\n",
            "\u001b[0;31mFileNotFoundError\u001b[0m: [Errno 2] No such file or directory: 'midwest.csv'"
          ]
        }
      ]
    },
    {
      "cell_type": "markdown",
      "metadata": {
        "id": "eFMaXjzw5NMk"
      },
      "source": [
        "Read in the \"date\" column as a date.\n",
        "\n",
        "ref: https://www.earthdatascience.org/courses/use-data-open-source-python/use-time-series-data-in-python/date-time-types-in-pandas-python/"
      ]
    },
    {
      "cell_type": "code",
      "metadata": {
        "id": "wJwbK7t8oysx"
      },
      "source": [
        "economics = pd.read_csv('economics.csv', parse_dates = ['date'])\n",
        "economics.head()"
      ],
      "execution_count": null,
      "outputs": []
    },
    {
      "cell_type": "markdown",
      "metadata": {
        "id": "-JFudREYr9dO"
      },
      "source": [
        "## Things to Note\n",
        "\n",
        "* If you're running these in a script, you'll need to include `plt.show()` at the end to actually draw the plot.  We don't need this line in the notebook.\n",
        "\n",
        "* In Seaborn, you may need to note if the chart function returns a `FacetGrid` object or an `Axes` object.  I've tried to use the variable `g` for `FacetGrid` and `ax` for `Axes`."
      ]
    },
    {
      "cell_type": "markdown",
      "metadata": {
        "id": "PsnBm1atRBuS"
      },
      "source": [
        "## Scatterplot"
      ]
    },
    {
      "cell_type": "markdown",
      "metadata": {
        "id": "GB7VbsgQqBB5"
      },
      "source": [
        "Here's a basic scatterplot, showing the percentage of college educated (mapped to the y-axis) vs. the total population (mapped to the x-axis) in each county in the midwest states."
      ]
    },
    {
      "cell_type": "code",
      "metadata": {
        "id": "JrYiiJNTy2OC"
      },
      "source": [
        "ax = sns.scatterplot(x=\"poptotal\", y=\"percollege\", data=midwest)"
      ],
      "execution_count": null,
      "outputs": []
    },
    {
      "cell_type": "markdown",
      "metadata": {
        "id": "QuTrMBn13HeR"
      },
      "source": [
        "Now we're going to subset this and just show the counties in Ohio (state==OH). `midwest['state']` refers to the `state` column in the midwest dataset. \n",
        "\n",
        "We also have some adjustments to the x-axis labels and tick marks so that the population is printed with commas and everything fits."
      ]
    },
    {
      "cell_type": "code",
      "metadata": {
        "id": "0E3ItFN93HCq"
      },
      "source": [
        "ax = sns.scatterplot(x=\"poptotal\", y=\"percollege\", data=midwest[midwest['state']==\"OH\"])\n",
        "\n",
        "ax.set_xlabel ('Population')\n",
        "ax.set_ylabel ('% College Educated')\n",
        "ax.set_title('Ohio counties (source: midwest)')\n",
        "\n",
        "# set x-axis parameters (to look nice)\n",
        "ax.set_xlim(left=0)    # set lowest xtick at 0\n",
        "ax.set_xticks(ax.get_xticks()[::2]) # use every other tick mark\n",
        "ticks = ax.get_xticks()\n",
        "labels = ['{:,.0f}'.format(x) for x in ticks]\n",
        "ax.set_xticklabels(labels);  # using the semicolon at the end won't print output"
      ],
      "execution_count": null,
      "outputs": []
    },
    {
      "cell_type": "markdown",
      "metadata": {
        "id": "_pzMwxshRDRM"
      },
      "source": [
        "## Bar Chart"
      ]
    },
    {
      "cell_type": "markdown",
      "metadata": {
        "id": "SutVv-6HTnpF"
      },
      "source": [
        "We need to sum the population in each state.  We can use Pandas functions for this.  First, we group the population by (`groupby`) state and `sum()` the values that we're grouping.  "
      ]
    },
    {
      "cell_type": "code",
      "metadata": {
        "id": "CZmW5G-pRJpE"
      },
      "source": [
        "by_state = midwest.groupby('state').sum()\n",
        "by_state"
      ],
      "execution_count": null,
      "outputs": []
    },
    {
      "cell_type": "markdown",
      "metadata": {
        "id": "oLZh8JsqbizK"
      },
      "source": [
        "Then we have to `reset_index()` to move 'state' back to a column instead of an index and then choose just 'state' and 'poptotal' columns."
      ]
    },
    {
      "cell_type": "code",
      "metadata": {
        "id": "N8kRM954be63"
      },
      "source": [
        "state_pop = by_state.reset_index()[['state', 'poptotal']]\n",
        "state_pop"
      ],
      "execution_count": null,
      "outputs": []
    },
    {
      "cell_type": "markdown",
      "metadata": {
        "id": "0natf7WxUupn"
      },
      "source": [
        "Then we can sort in descending order"
      ]
    },
    {
      "cell_type": "code",
      "metadata": {
        "id": "yLgWwfJEUxrl"
      },
      "source": [
        "state_pop.sort_values(by=['poptotal'], ascending=False, inplace=True)\n",
        "state_pop"
      ],
      "execution_count": null,
      "outputs": []
    },
    {
      "cell_type": "markdown",
      "metadata": {
        "id": "EWbRV9xuU328"
      },
      "source": [
        "Now we can plot with `catplot()` and `kind=\"bar\"`"
      ]
    },
    {
      "cell_type": "code",
      "metadata": {
        "id": "-S6JXsZzVEor"
      },
      "source": [
        "g = sns.catplot(x=\"state\", y=\"poptotal\", kind=\"bar\", data=state_pop, color=\"steelblue\")\n",
        "\n",
        "g = (g.set_axis_labels ('State', 'Total Population'))\n",
        "plt.title('(source: midwest)')\n",
        "\n",
        "# format commas in ticklabels\n",
        "ticks = g.axes[0][0].get_yticks()\n",
        "labels = ['{:,.0f}'.format(x) for x in ticks]\n",
        "g.set_yticklabels(labels);"
      ],
      "execution_count": null,
      "outputs": []
    },
    {
      "cell_type": "markdown",
      "metadata": {
        "id": "pPqq_1DycUnS"
      },
      "source": [
        "Let's turn it sideways.  Just switch x and y axes and make the chart wider to accomodate the labels."
      ]
    },
    {
      "cell_type": "code",
      "metadata": {
        "id": "AOVGNIUecXDX"
      },
      "source": [
        "g = sns.catplot(y=\"state\", x=\"poptotal\", kind=\"bar\", data=state_pop, color=\"steelblue\", \n",
        "                height=5, # make the plot 5 units high\n",
        "                aspect=1.5) # width should be 1.5 times height)\n",
        "\n",
        "g = (g.set_axis_labels ('Total Population', 'State' ))\n",
        "plt.title('(source: midwest)')\n",
        "\n",
        "# format commas in ticklabels\n",
        "ticks = g.axes[0][0].get_xticks()\n",
        "labels = ['{:,.0f}'.format(x) for x in ticks]\n",
        "g.set_xticklabels(labels);"
      ],
      "execution_count": null,
      "outputs": []
    },
    {
      "cell_type": "markdown",
      "metadata": {
        "id": "2viXqJtwREmc"
      },
      "source": [
        "## Line Chart"
      ]
    },
    {
      "cell_type": "code",
      "metadata": {
        "id": "_GN9gkTZdQXg"
      },
      "source": [
        "economics.head()"
      ],
      "execution_count": null,
      "outputs": []
    },
    {
      "cell_type": "code",
      "metadata": {
        "id": "Mb6ZvhQz2Ee3"
      },
      "source": [
        "ax = sns.lineplot(x=\"date\", y=\"unemploy\", data=economics)\n",
        "\n",
        "ax.set_xlabel ('Date')\n",
        "ax.set_ylabel ('Number Unemployed (thousands)')\n",
        "ax.set_title('(source: economics)')\n",
        "\n",
        "# set ticks every 5 years, show just the year\n",
        "import matplotlib.dates as mdates\n",
        "ax.xaxis.set_major_locator(mdates.YearLocator(5))\n",
        "ax.xaxis.set_major_formatter(mdates.DateFormatter('%Y'))\n",
        "\n",
        "# set y-axis parameters (to look nice)\n",
        "ticks = ax.get_yticks()\n",
        "labels = ['{:,.0f}'.format(x) for x in ticks]\n",
        "ax.set_yticklabels(labels);  "
      ],
      "execution_count": null,
      "outputs": []
    },
    {
      "cell_type": "markdown",
      "metadata": {
        "id": "qM1518i8RGv5"
      },
      "source": [
        "## Scatterplot Matrix"
      ]
    },
    {
      "cell_type": "markdown",
      "metadata": {
        "id": "02HbPW-7-yo4"
      },
      "source": [
        "We can use the `pairplot()` function to plot a scatterplot matrix.  Instead of plotting the data in the diagonals, it plots a histogram of that attribute.\n",
        "\n",
        "The example here goes back to the midwest dataset, selects only columns for 'area', 'poptotal', and 'popdensity'."
      ]
    },
    {
      "cell_type": "code",
      "metadata": {
        "id": "-tLsxW0Z-YQ6"
      },
      "source": [
        "g = sns.pairplot(midwest, vars=['area', 'poptotal', 'popdensity'])"
      ],
      "execution_count": null,
      "outputs": []
    },
    {
      "cell_type": "markdown",
      "metadata": {
        "id": "NneMJx2ZRIL1"
      },
      "source": [
        "## Histogram"
      ]
    },
    {
      "cell_type": "markdown",
      "metadata": {
        "id": "g0eXhJqf52Nd"
      },
      "source": [
        "For the histogram, we show the distribution of population per county. Note that we're limiting this to counties that have less than 1 M people (in particular, Cook County, IL includes Chicago and has > 5 M people), so that skews the histogram.\n",
        "\n",
        "To create the histogram, we use the `distplot()` function. We have to pass just a simple array, so we've taken the subset with population < 1M and then returned just the `poptotal` column.\n",
        "\n",
        "By default `distplot()` also shows a kernel, so we specify `kde=False` to turn that off."
      ]
    },
    {
      "cell_type": "code",
      "metadata": {
        "id": "gfKq7f4H5pCl"
      },
      "source": [
        "ax = sns.distplot(midwest[midwest['poptotal']<1000000]['poptotal'], kde=False) \n",
        "\n",
        "ax.set_xlabel ('Population')\n",
        "ax.set_ylabel ('Number of Counties')\n",
        "ax.set_title('(source: midwest)')\n",
        "\n",
        "# format commas in ticklabels\n",
        "ticks = ax.get_xticks()\n",
        "labels = ['{:,.0f}'.format(x) for x in ticks]\n",
        "ax.set_xticklabels(labels);"
      ],
      "execution_count": null,
      "outputs": []
    },
    {
      "cell_type": "markdown",
      "metadata": {
        "id": "ZEiOqNK78bkI"
      },
      "source": [
        "We can use the `bins` option to change the number of bins in the histogram.  Note this is number of bins, not the binwidth (as we had in the R example)."
      ]
    },
    {
      "cell_type": "code",
      "metadata": {
        "id": "phpm155a9o01"
      },
      "source": [
        "ax = sns.distplot(midwest[midwest['poptotal']<1000000]['poptotal'], kde=False, bins=100) \n",
        "\n",
        "ax.set_xlabel ('Population')\n",
        "ax.set_ylabel ('Number of Counties')\n",
        "ax.set_title('(source: midwest)')\n",
        "\n",
        "# format commas in ticklabels\n",
        "ticks = ax.get_xticks()\n",
        "labels = ['{:,.0f}'.format(x) for x in ticks]\n",
        "ax.set_xticklabels(labels);"
      ],
      "execution_count": null,
      "outputs": []
    },
    {
      "cell_type": "markdown",
      "metadata": {
        "id": "V2RG95LkRKQe"
      },
      "source": [
        "## Boxplot"
      ]
    },
    {
      "cell_type": "markdown",
      "metadata": {
        "id": "2NWJOTNE5PKx"
      },
      "source": [
        "We're again looking at the total population by county in the midwest (and again, only for counties with < 1M people). This time, we'll use boxplots and create a separate boxplot for each state. \n",
        "\n",
        "The code is very similar to the bar chart.  We use `catplot()`, specify `kind=\"box\"`, and use the midwest dataset (filtered to counties with < 1M people) instead of the state_pop dataset that we'd created for the bar chart."
      ]
    },
    {
      "cell_type": "code",
      "metadata": {
        "id": "QAZ2z22C4qmY"
      },
      "source": [
        "g = sns.catplot(x=\"state\", y=\"poptotal\", kind=\"box\", data=midwest[midwest['poptotal']<1000000]) \n",
        "\n",
        "g = (g.set_axis_labels ('State', 'Total Population'))\n",
        "plt.title('(source: midwest)')\n",
        "\n",
        "# format commas in ticklabels\n",
        "ticks = g.axes[0][0].get_yticks()\n",
        "labels = ['{:,.0f}'.format(x) for x in ticks]\n",
        "g.set_yticklabels(labels);"
      ],
      "execution_count": null,
      "outputs": []
    },
    {
      "cell_type": "markdown",
      "metadata": {
        "id": "psypbAGmRMCv"
      },
      "source": [
        "## Empirical CDF (ECDF)"
      ]
    },
    {
      "cell_type": "markdown",
      "metadata": {
        "id": "fMPrnJJMtYkG"
      },
      "source": [
        "Currently, there's no ecdf plotting function for Seaborn, but it's coming soon. (See https://github.com/mwaskom/seaborn/pull/2141).  It will be `ecdfplot()`\n",
        "\n",
        "But there's code showing how to compute an ECDF and plot it with scatter().  See https://cmdlinetips.com/2019/05/empirical-cumulative-distribution-function-ecdf-in-python/"
      ]
    },
    {
      "cell_type": "markdown",
      "metadata": {
        "id": "i5dAxHNlxtp0"
      },
      "source": [
        "*Preparing the data*"
      ]
    },
    {
      "cell_type": "code",
      "metadata": {
        "id": "rMHTYp3TxmgP"
      },
      "source": [
        "import numpy as np  # use for sort() and arrange() to build the ECDF\n",
        "pop_data = midwest[midwest['poptotal']<1000000]['poptotal']\n",
        "x = np.sort(pop_data)\n",
        "n = x.size\n",
        "y = np.arange(1, n+1) / n"
      ],
      "execution_count": null,
      "outputs": []
    },
    {
      "cell_type": "markdown",
      "metadata": {
        "id": "-neScQasxoIL"
      },
      "source": [
        "Drawing the chart with `scatter()`"
      ]
    },
    {
      "cell_type": "code",
      "metadata": {
        "id": "N-qzyV4stQtI"
      },
      "source": [
        "plt.scatter(x=x, y=y);\n",
        "plt.xlabel('Population')\n",
        "plt.ylabel('Percentage of Counties');"
      ],
      "execution_count": null,
      "outputs": []
    },
    {
      "cell_type": "markdown",
      "metadata": {
        "id": "nkFtVT4fxfQr"
      },
      "source": [
        "Here's an example of how to do the same thing with Seaborn's `lineplot()` to include the line and points."
      ]
    },
    {
      "cell_type": "code",
      "metadata": {
        "id": "WgrYKOX8wHoA"
      },
      "source": [
        "ax = sns.lineplot(x=x, y=y, marker=\"o\")\n",
        "\n",
        "ax.set_xlabel ('Population')\n",
        "ax.set_ylabel ('Percentage of Counties')\n",
        "ax.set_title('(source: midwest)')\n",
        "\n",
        "# set x-axis parameters (to look nice)\n",
        "ax.set_xlim(left=0, right=1000000)    # set lowest xtick at 0, max at 1M\n",
        "ticks = ax.get_xticks()\n",
        "labels = ['{:,.0f}'.format(x) for x in ticks]\n",
        "ax.set_xticklabels(labels);  # using the semicolon at the end won't print output"
      ],
      "execution_count": null,
      "outputs": []
    }
  ]
}